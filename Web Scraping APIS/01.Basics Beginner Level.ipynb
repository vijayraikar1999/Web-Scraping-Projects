{
 "cells": [
  {
   "cell_type": "markdown",
   "id": "b7b89cb3-f4e2-4f4b-90a7-5ddfffbcea74",
   "metadata": {},
   "source": [
    "### Step 1 - Imports"
   ]
  },
  {
   "cell_type": "code",
   "execution_count": 4,
   "id": "45d48a32-81e3-40ce-8370-7fefc134210b",
   "metadata": {},
   "outputs": [],
   "source": [
    "import requests\n",
    "import pandas as pd"
   ]
  },
  {
   "cell_type": "markdown",
   "id": "e734d6db-34c6-4903-b4cf-20dc48c3f5c4",
   "metadata": {},
   "source": [
    "### Step 2 - Requests & CURL"
   ]
  },
  {
   "cell_type": "code",
   "execution_count": 14,
   "id": "2c126ad2-cc96-46a0-bb3a-8299334eee6a",
   "metadata": {},
   "outputs": [],
   "source": [
    "import requests\n",
    "\n",
    "params = {\n",
    "    'ResultOrder': 'Popularity',\n",
    "    'CountryCode': 'DE',\n",
    "    'subjectId': '13',\n",
    "}\n",
    "\n",
    "response = requests.get('https://www.ebooks.com/api/search/subject/', params=params)"
   ]
  },
  {
   "cell_type": "markdown",
   "id": "eef3a48b-252f-4c4f-9af7-825a71943df9",
   "metadata": {},
   "source": [
    "### Step 3 - Check Status Code"
   ]
  },
  {
   "cell_type": "code",
   "execution_count": 15,
   "id": "a0c017e5-4e18-48d9-b18e-5110b5dae808",
   "metadata": {},
   "outputs": [
    {
     "data": {
      "text/plain": [
       "<Response [200]>"
      ]
     },
     "execution_count": 15,
     "metadata": {},
     "output_type": "execute_result"
    }
   ],
   "source": [
    "response"
   ]
  },
  {
   "cell_type": "markdown",
   "id": "044418a5-099f-4cf0-87b1-300f851858c5",
   "metadata": {},
   "source": [
    "### Step 4 - Create Json Object"
   ]
  },
  {
   "cell_type": "code",
   "execution_count": 17,
   "id": "9f08dc22-62b6-46d8-b515-51159927a90f",
   "metadata": {},
   "outputs": [
    {
     "data": {
      "text/plain": [
       "{'search_term': None,\n",
       " 'start_record': 1,\n",
       " 'total_results': 53363,\n",
       " 'books': [{'id': 95729334,\n",
       "   'book_url': '/en-de/book/95729334/designing-data-intensive-applications/martin-kleppmann/',\n",
       "   'image_url': 'https://image.ebooks.com/previews/095/095729/095729334/095729334-sml-1.jpg',\n",
       "   'image_alt_tag': 'Designing Data-Intensive Applications: The Big Ideas Behind Reliable, Scalable, and Maintainable Systems',\n",
       "   'title': 'Designing Data-Intensive Applications',\n",
       "   'edition': '',\n",
       "   'subtitle': 'The Big Ideas Behind Reliable, Scalable, and Maintainable Systems',\n",
       "   'authors': [{'author_name': 'Martin Kleppmann',\n",
       "     'author_url': '/en-de/author/martin-kleppmann/1321307/'}],\n",
       "   'num_authors': 1,\n",
       "   'series': ' Series',\n",
       "   'series_number': '',\n",
       "   'has_series': False,\n",
       "   'series_url': '',\n",
       "   'publisher': \"O'Reilly Media\",\n",
       "   'publication_year': '2017',\n",
       "   'price': '32,64 €',\n",
       "   'desktop_short_description': 'Data is at the center of many challenges in system design today. Difficult issues need to be figured out, such as scalability, consistency, reliability, efficiency, and maintainability. In addition, we have an overwhelming variety of tools, including relational databases, NoSQL datastores, stream or batch processors, and message brokers. What are...',\n",
       "   'mobile_short_description': 'Data is at the center of many challenges in system design today. Difficult issues need to be figured...',\n",
       "   'is_preorder': False,\n",
       "   'is_available': True,\n",
       "   'preorder_url': '/account/preorder/?bookId=95729334',\n",
       "   'add_to_cart_url': '/cart/add/95729334/',\n",
       "   'currency_symbol': '€',\n",
       "   'price_number': 32.635,\n",
       "   'on_sale_date': '2017-03-16T00:00:00',\n",
       "   'short_publication_date': 'Mar 2017'},\n",
       "  {'id': 210531368,\n",
       "   'book_url': '/en-de/book/210531368/fluent-python/luciano-ramalho/',\n",
       "   'image_url': 'https://image.ebooks.com/previews/210/210531/210531368/210531368-sml-1.jpg',\n",
       "   'image_alt_tag': 'Fluent Python',\n",
       "   'title': 'Fluent Python',\n",
       "   'edition': ' (2nd ed.)',\n",
       "   'subtitle': '',\n",
       "   'authors': [{'author_name': 'Luciano Ramalho',\n",
       "     'author_url': '/en-de/author/luciano-ramalho/983436/'}],\n",
       "   'num_authors': 1,\n",
       "   'series': ' Series',\n",
       "   'series_number': '',\n",
       "   'has_series': False,\n",
       "   'series_url': '',\n",
       "   'publisher': \"O'Reilly Media\",\n",
       "   'publication_year': '2022',\n",
       "   'price': '48,14 €',\n",
       "   'desktop_short_description': \"Don't waste time bending Python to fit patterns you've learned in other languages. Python's simplicity lets you become productive quickly, but often this means you aren't using everything the language has to offer. With the updated edition of this hands-on guide, you'll learn how to write effective, modern Python 3 code by leveraging its best...\",\n",
       "   'mobile_short_description': \"Don't waste time bending Python to fit patterns you've learned in other languages. Python's...\",\n",
       "   'is_preorder': False,\n",
       "   'is_available': True,\n",
       "   'preorder_url': '/account/preorder/?bookId=210531368',\n",
       "   'add_to_cart_url': '/cart/add/210531368/',\n",
       "   'currency_symbol': '€',\n",
       "   'price_number': 48.1393,\n",
       "   'on_sale_date': '2022-03-31T00:00:00',\n",
       "   'short_publication_date': 'Mar 2022'},\n",
       "  {'id': 210338899,\n",
       "   'book_url': '/en-de/book/210338899/building-microservices/sam-newman/',\n",
       "   'image_url': 'https://image.ebooks.com/previews/210/210338/210338899/210338899-sml-1.jpg',\n",
       "   'image_alt_tag': 'Building Microservices',\n",
       "   'title': 'Building Microservices',\n",
       "   'edition': ' (2nd ed.)',\n",
       "   'subtitle': '',\n",
       "   'authors': [{'author_name': 'Sam Newman',\n",
       "     'author_url': '/en-de/author/sam-newman/748359/'}],\n",
       "   'num_authors': 1,\n",
       "   'series': ' Series',\n",
       "   'series_number': '',\n",
       "   'has_series': False,\n",
       "   'series_url': '',\n",
       "   'publisher': \"O'Reilly Media\",\n",
       "   'publication_year': '2021',\n",
       "   'price': '40,65 €',\n",
       "   'desktop_short_description': 'As organizations shift from monolithic applications to smaller, self-contained microservices, distributed systems have become more fine-grained. But developing these new systems brings its own host of problems. This expanded second edition takes a holistic view of topics that you need to consider when building, managing, and scaling microservices...',\n",
       "   'mobile_short_description': 'As organizations shift from monolithic applications to smaller, self-contained microservices,...',\n",
       "   'is_preorder': False,\n",
       "   'is_available': True,\n",
       "   'preorder_url': '/account/preorder/?bookId=210338899',\n",
       "   'add_to_cart_url': '/cart/add/210338899/',\n",
       "   'currency_symbol': '€',\n",
       "   'price_number': 40.6493,\n",
       "   'on_sale_date': '2021-07-24T00:00:00',\n",
       "   'short_publication_date': 'Jul 2021'},\n",
       "  {'id': 209971850,\n",
       "   'book_url': '/en-de/book/209971850/architecture-patterns-with-python/harry-percival/',\n",
       "   'image_url': 'https://image.ebooks.com/previews/209/209971/209971850/209971850-sml-1.jpg',\n",
       "   'image_alt_tag': 'Architecture Patterns with Python: Enabling Test-Driven Development, Domain-Driven Design, and Event-Driven Microservices',\n",
       "   'title': 'Architecture Patterns with Python',\n",
       "   'edition': '',\n",
       "   'subtitle': 'Enabling Test-Driven Development, Domain-Driven Design, and Event-Driven Microservices',\n",
       "   'authors': [{'author_name': 'Harry Percival',\n",
       "     'author_url': '/en-de/author/harry-percival/208223117/'},\n",
       "    {'author_name': 'Bob Gregory',\n",
       "     'author_url': '/en-de/author/bob-gregory/208376402/'}],\n",
       "   'num_authors': 2,\n",
       "   'series': ' Series',\n",
       "   'series_number': '',\n",
       "   'has_series': False,\n",
       "   'series_url': '',\n",
       "   'publisher': \"O'Reilly Media\",\n",
       "   'publication_year': '2020',\n",
       "   'price': '34,23 €',\n",
       "   'desktop_short_description': 'As Python continues to grow in popularity, projects are becoming larger and more complex. Many Python developers are now taking an interest in high-level software design patterns such as hexagonal/clean architecture, event-driven architecture, and the strategic patterns prescribed by domain-driven design (DDD). But translating those patterns into...',\n",
       "   'mobile_short_description': 'As Python continues to grow in popularity, projects are becoming larger and more complex. Many...',\n",
       "   'is_preorder': False,\n",
       "   'is_available': True,\n",
       "   'preorder_url': '/account/preorder/?bookId=209971850',\n",
       "   'add_to_cart_url': '/cart/add/209971850/',\n",
       "   'currency_symbol': '€',\n",
       "   'price_number': 34.2293,\n",
       "   'on_sale_date': '2020-03-05T00:00:00',\n",
       "   'short_publication_date': 'Mar 2020'},\n",
       "  {'id': 95871448,\n",
       "   'book_url': '/en-de/book/95871448/python-for-data-analysis/wes-mckinney/',\n",
       "   'image_url': 'https://image.ebooks.com/previews/095/095871/095871448/095871448-sml-1.jpg',\n",
       "   'image_alt_tag': 'Python for Data Analysis: Data Wrangling with Pandas, NumPy, and IPython',\n",
       "   'title': 'Python for Data Analysis',\n",
       "   'edition': ' (2nd ed.)',\n",
       "   'subtitle': 'Data Wrangling with Pandas, NumPy, and IPython',\n",
       "   'authors': [{'author_name': 'Wes McKinney',\n",
       "     'author_url': '/en-de/author/wes-mckinney/513179/'}],\n",
       "   'num_authors': 1,\n",
       "   'series': ' Series',\n",
       "   'series_number': '',\n",
       "   'has_series': False,\n",
       "   'series_url': '',\n",
       "   'publisher': \"O'Reilly Media\",\n",
       "   'publication_year': '2017',\n",
       "   'price': '34,23 €',\n",
       "   'desktop_short_description': 'Get complete instructions for manipulating, processing, cleaning, and crunching datasets in Python. Updated for Python 3.6, the second edition of this hands-on guide is packed with practical case studies that show you how to solve a broad set of data analysis problems effectively. You’ll learn the latest versions of pandas, NumPy, IPython, and...',\n",
       "   'mobile_short_description': 'Get complete instructions for manipulating, processing, cleaning, and crunching datasets in Python....',\n",
       "   'is_preorder': False,\n",
       "   'is_available': True,\n",
       "   'preorder_url': '/account/preorder/?bookId=95871448',\n",
       "   'add_to_cart_url': '/cart/add/95871448/',\n",
       "   'currency_symbol': '€',\n",
       "   'price_number': 34.2293,\n",
       "   'on_sale_date': '2017-09-25T00:00:00',\n",
       "   'short_publication_date': 'Sep 2017'},\n",
       "  {'id': 209970024,\n",
       "   'book_url': '/en-de/book/209970024/software-engineering-at-google/titus-winters/',\n",
       "   'image_url': 'https://image.ebooks.com/previews/209/209970/209970024/209970024-sml-1.jpg',\n",
       "   'image_alt_tag': 'Software Engineering at Google: Lessons Learned from Programming Over Time',\n",
       "   'title': 'Software Engineering at Google',\n",
       "   'edition': '',\n",
       "   'subtitle': 'Lessons Learned from Programming Over Time',\n",
       "   'authors': [{'author_name': 'Titus Winters',\n",
       "     'author_url': '/en-de/author/titus-winters/208375647/'},\n",
       "    {'author_name': 'Tom Manshreck',\n",
       "     'author_url': '/en-de/author/tom-manshreck/208375648/'}],\n",
       "   'num_authors': 3,\n",
       "   'series': ' Series',\n",
       "   'series_number': '',\n",
       "   'has_series': False,\n",
       "   'series_url': '',\n",
       "   'publisher': \"O'Reilly Media\",\n",
       "   'publication_year': '2020',\n",
       "   'price': '40,65 €',\n",
       "   'desktop_short_description': 'Today, software engineers need to know not only how to program effectively but also how to develop proper engineering practices to make their codebase sustainable and healthy. This book emphasizes this difference between programming and software engineering.  How can software engineers manage a living codebase that evolves and responds to changing...',\n",
       "   'mobile_short_description': 'Today, software engineers need to know not only how to program effectively but also how to develop...',\n",
       "   'is_preorder': False,\n",
       "   'is_available': True,\n",
       "   'preorder_url': '/account/preorder/?bookId=209970024',\n",
       "   'add_to_cart_url': '/cart/add/209970024/',\n",
       "   'currency_symbol': '€',\n",
       "   'price_number': 40.6493,\n",
       "   'on_sale_date': '2020-02-28T00:00:00',\n",
       "   'short_publication_date': 'Feb 2020'},\n",
       "  {'id': 210124083,\n",
       "   'book_url': '/en-de/book/210124083/comptia-security-sy0-601-exam-cram/martin-m-weiss/',\n",
       "   'image_url': 'https://image.ebooks.com/previews/210/210124/210124083/210124083-sml-1.jpg',\n",
       "   'image_alt_tag': 'CompTIA Security&#x2B; SY0-601 Exam Cram',\n",
       "   'title': 'CompTIA Security+ SY0-601 Exam Cram',\n",
       "   'edition': ' (6th ed.)',\n",
       "   'subtitle': '',\n",
       "   'authors': [{'author_name': 'Martin M. Weiss',\n",
       "     'author_url': '/en-de/author/martin-m.-weiss/94214231/'}],\n",
       "   'num_authors': 1,\n",
       "   'series': ' Series',\n",
       "   'series_number': '',\n",
       "   'has_series': False,\n",
       "   'series_url': '',\n",
       "   'publisher': 'Pearson Education',\n",
       "   'publication_year': '2020',\n",
       "   'price': '36,69 €',\n",
       "   'desktop_short_description': 'Prepare for CompTIA Security+ SY0-601 exam success with this Exam Cram from Pearson IT Certification, a leader in IT certification.                    This is the eBook edition of the   CompTIA Security+ SY0-601 Exam Cram , Sixth Edition. This eBook does not include access to the Pearson Test Prep practice exams that comes with the print edition.  ...',\n",
       "   'mobile_short_description': 'Prepare for CompTIA Security+ SY0-601 exam success with this Exam Cram from Pearson IT...',\n",
       "   'is_preorder': False,\n",
       "   'is_available': True,\n",
       "   'preorder_url': '/account/preorder/?bookId=210124083',\n",
       "   'add_to_cart_url': '/cart/add/210124083/',\n",
       "   'currency_symbol': '€',\n",
       "   'price_number': 36.688965389,\n",
       "   'on_sale_date': '2020-10-30T00:00:00',\n",
       "   'short_publication_date': 'Oct 2020'},\n",
       "  {'id': 210180129,\n",
       "   'book_url': '/en-de/book/210180129/head-first-c/andrew-stellman/',\n",
       "   'image_url': 'https://image.ebooks.com/previews/210/210180/210180129/210180129-sml-1.jpg',\n",
       "   'image_alt_tag': 'Head First C#',\n",
       "   'title': 'Head First C#',\n",
       "   'edition': ' (4th ed.)',\n",
       "   'subtitle': '',\n",
       "   'authors': [{'author_name': 'Andrew Stellman',\n",
       "     'author_url': '/en-de/author/andrew-stellman/182816/'},\n",
       "    {'author_name': 'Jennifer Greene',\n",
       "     'author_url': '/en-de/author/jennifer-greene/67758/'}],\n",
       "   'num_authors': 2,\n",
       "   'series': ' Series',\n",
       "   'series_number': '',\n",
       "   'has_series': False,\n",
       "   'series_url': '',\n",
       "   'publisher': \"O'Reilly Media\",\n",
       "   'publication_year': '2020',\n",
       "   'price': '37,44 €',\n",
       "   'desktop_short_description': 'What will you learn from this book?   Dive into C# and create apps, user interfaces, games, and more using this fun and highly visual introduction to C#, .NET Core, and Visual Studio. With this completely updated guide, which covers C# 8.0 and Visual Studio 2019, beginning programmers like you will build a fully functional game in the opening...',\n",
       "   'mobile_short_description': 'What will you learn from this book?   Dive into C# and create apps, user interfaces, games, and more...',\n",
       "   'is_preorder': False,\n",
       "   'is_available': True,\n",
       "   'preorder_url': '/account/preorder/?bookId=210180129',\n",
       "   'add_to_cart_url': '/cart/add/210180129/',\n",
       "   'currency_symbol': '€',\n",
       "   'price_number': 37.4393,\n",
       "   'on_sale_date': '2020-12-04T00:00:00',\n",
       "   'short_publication_date': 'Dec 2020'},\n",
       "  {'id': 210491752,\n",
       "   'book_url': '/en-de/book/210491752/c-10-in-a-nutshell/joseph-albahari/',\n",
       "   'image_url': 'https://image.ebooks.com/previews/210/210491/210491752/210491752-sml-1.jpg',\n",
       "   'image_alt_tag': 'C# 10 in a Nutshell',\n",
       "   'title': 'C# 10 in a Nutshell',\n",
       "   'edition': '',\n",
       "   'subtitle': '',\n",
       "   'authors': [{'author_name': 'Joseph Albahari',\n",
       "     'author_url': '/en-de/author/joseph-albahari/182770/'}],\n",
       "   'num_authors': 1,\n",
       "   'series': ' Series',\n",
       "   'series_number': '',\n",
       "   'has_series': False,\n",
       "   'series_url': '',\n",
       "   'publisher': \"O'Reilly Media\",\n",
       "   'publication_year': '2022',\n",
       "   'price': '54,56 €',\n",
       "   'desktop_short_description': \"When you have questions about C# 10 or .NET 6, this best-selling guide has the answers you need. C# is a language of unusual flexibility and breadth, and with its continual growth, there's always so much more to learn. In the tradition of O'Reilly's Nutshell guides, this thoroughly updated edition is simply the best one-volume reference to the C#...\",\n",
       "   'mobile_short_description': 'When you have questions about C# 10 or .NET 6, this best-selling guide has the answers you need. C#...',\n",
       "   'is_preorder': False,\n",
       "   'is_available': True,\n",
       "   'preorder_url': '/account/preorder/?bookId=210491752',\n",
       "   'add_to_cart_url': '/cart/add/210491752/',\n",
       "   'currency_symbol': '€',\n",
       "   'price_number': 54.5593,\n",
       "   'on_sale_date': '2022-02-07T00:00:00',\n",
       "   'short_publication_date': 'Feb 2022'},\n",
       "  {'id': 210091243,\n",
       "   'book_url': '/en-de/book/210091243/data-management-at-scale/piethein-strengholt/',\n",
       "   'image_url': 'https://image.ebooks.com/previews/210/210091/210091243/210091243-sml-1.jpg',\n",
       "   'image_alt_tag': 'Data Management at Scale',\n",
       "   'title': 'Data Management at Scale',\n",
       "   'edition': '',\n",
       "   'subtitle': '',\n",
       "   'authors': [{'author_name': 'Piethein Strengholt',\n",
       "     'author_url': '/en-de/author/piethein-strengholt/208439016/'}],\n",
       "   'num_authors': 1,\n",
       "   'series': ' Series',\n",
       "   'series_number': '',\n",
       "   'has_series': False,\n",
       "   'series_url': '',\n",
       "   'publisher': \"O'Reilly Media\",\n",
       "   'publication_year': '2020',\n",
       "   'price': '48,14 €',\n",
       "   'desktop_short_description': 'As data management and integration continue to evolve rapidly, storing all your data in one place, such as a data warehouse, is no longer scalable. In the very near future, data will need to be distributed and available for several technological solutions. With this practical book, you’ll learnhow to migrate your enterprise from a complex and...',\n",
       "   'mobile_short_description': 'As data management and integration continue to evolve rapidly, storing all your data in one place,...',\n",
       "   'is_preorder': False,\n",
       "   'is_available': True,\n",
       "   'preorder_url': '/account/preorder/?bookId=210091243',\n",
       "   'add_to_cart_url': '/cart/add/210091243/',\n",
       "   'currency_symbol': '€',\n",
       "   'price_number': 48.1393,\n",
       "   'on_sale_date': '2020-07-29T00:00:00',\n",
       "   'short_publication_date': 'Jul 2020'}],\n",
       " 'pages': [{'number': '1',\n",
       "   'is_selected': True,\n",
       "   'show_mobile': True,\n",
       "   'show_tablet': True,\n",
       "   'search_url': '/en-de/subjects/computers/?ResultOrder=Popularity'},\n",
       "  {'number': '2',\n",
       "   'is_selected': False,\n",
       "   'show_mobile': True,\n",
       "   'show_tablet': True,\n",
       "   'search_url': '/en-de/subjects/computers/?ResultOrder=Popularity&pageNumber=2'},\n",
       "  {'number': '3',\n",
       "   'is_selected': False,\n",
       "   'show_mobile': True,\n",
       "   'show_tablet': True,\n",
       "   'search_url': '/en-de/subjects/computers/?ResultOrder=Popularity&pageNumber=3'},\n",
       "  {'number': '4',\n",
       "   'is_selected': False,\n",
       "   'show_mobile': True,\n",
       "   'show_tablet': True,\n",
       "   'search_url': '/en-de/subjects/computers/?ResultOrder=Popularity&pageNumber=4'},\n",
       "  {'number': '5',\n",
       "   'is_selected': False,\n",
       "   'show_mobile': True,\n",
       "   'show_tablet': True,\n",
       "   'search_url': '/en-de/subjects/computers/?ResultOrder=Popularity&pageNumber=5'},\n",
       "  {'number': '6',\n",
       "   'is_selected': False,\n",
       "   'show_mobile': False,\n",
       "   'show_tablet': True,\n",
       "   'search_url': '/en-de/subjects/computers/?ResultOrder=Popularity&pageNumber=6'},\n",
       "  {'number': '7',\n",
       "   'is_selected': False,\n",
       "   'show_mobile': False,\n",
       "   'show_tablet': True,\n",
       "   'search_url': '/en-de/subjects/computers/?ResultOrder=Popularity&pageNumber=7'},\n",
       "  {'number': '8',\n",
       "   'is_selected': False,\n",
       "   'show_mobile': False,\n",
       "   'show_tablet': True,\n",
       "   'search_url': '/en-de/subjects/computers/?ResultOrder=Popularity&pageNumber=8'},\n",
       "  {'number': '9',\n",
       "   'is_selected': False,\n",
       "   'show_mobile': False,\n",
       "   'show_tablet': False,\n",
       "   'search_url': '/en-de/subjects/computers/?ResultOrder=Popularity&pageNumber=9'}],\n",
       " 'previous_page': None,\n",
       " 'next_page': '/en-de/subjects/computers/?ResultOrder=Popularity&pageNumber=2'}"
      ]
     },
     "execution_count": 17,
     "metadata": {},
     "output_type": "execute_result"
    }
   ],
   "source": [
    "response.json()"
   ]
  },
  {
   "cell_type": "code",
   "execution_count": 18,
   "id": "a9824a22-fb91-4903-86f3-bea09998cb8e",
   "metadata": {},
   "outputs": [
    {
     "data": {
      "text/plain": [
       "dict"
      ]
     },
     "execution_count": 18,
     "metadata": {},
     "output_type": "execute_result"
    }
   ],
   "source": [
    "type(response.json())"
   ]
  },
  {
   "cell_type": "markdown",
   "id": "cd322f04-6690-41db-83fd-99d414622246",
   "metadata": {},
   "source": [
    "### Step 5 - Output Keys"
   ]
  },
  {
   "cell_type": "code",
   "execution_count": 19,
   "id": "bb7b35e4-ad97-4343-b24a-60a9dd0855c4",
   "metadata": {},
   "outputs": [
    {
     "data": {
      "text/plain": [
       "dict_keys(['search_term', 'start_record', 'total_results', 'books', 'pages', 'previous_page', 'next_page'])"
      ]
     },
     "execution_count": 19,
     "metadata": {},
     "output_type": "execute_result"
    }
   ],
   "source": [
    "response.json().keys()"
   ]
  },
  {
   "cell_type": "markdown",
   "id": "77582bdf-e46b-4d51-b267-be00527d9da5",
   "metadata": {},
   "source": [
    "### Step 6 - Find your Data"
   ]
  },
  {
   "cell_type": "code",
   "execution_count": 20,
   "id": "83555334-08bb-495e-ab3b-44c6fe9af172",
   "metadata": {},
   "outputs": [],
   "source": [
    "# title \n",
    "# subtitle\n",
    "# author\n",
    "# publisher\n",
    "# publication date\n",
    "# price"
   ]
  },
  {
   "cell_type": "code",
   "execution_count": 21,
   "id": "24e52a12-3e3e-481b-8819-6143a4691383",
   "metadata": {
    "scrolled": true,
    "tags": []
   },
   "outputs": [
    {
     "data": {
      "text/plain": [
       "[{'id': 95729334,\n",
       "  'book_url': '/en-de/book/95729334/designing-data-intensive-applications/martin-kleppmann/',\n",
       "  'image_url': 'https://image.ebooks.com/previews/095/095729/095729334/095729334-sml-1.jpg',\n",
       "  'image_alt_tag': 'Designing Data-Intensive Applications: The Big Ideas Behind Reliable, Scalable, and Maintainable Systems',\n",
       "  'title': 'Designing Data-Intensive Applications',\n",
       "  'edition': '',\n",
       "  'subtitle': 'The Big Ideas Behind Reliable, Scalable, and Maintainable Systems',\n",
       "  'authors': [{'author_name': 'Martin Kleppmann',\n",
       "    'author_url': '/en-de/author/martin-kleppmann/1321307/'}],\n",
       "  'num_authors': 1,\n",
       "  'series': ' Series',\n",
       "  'series_number': '',\n",
       "  'has_series': False,\n",
       "  'series_url': '',\n",
       "  'publisher': \"O'Reilly Media\",\n",
       "  'publication_year': '2017',\n",
       "  'price': '32,64 €',\n",
       "  'desktop_short_description': 'Data is at the center of many challenges in system design today. Difficult issues need to be figured out, such as scalability, consistency, reliability, efficiency, and maintainability. In addition, we have an overwhelming variety of tools, including relational databases, NoSQL datastores, stream or batch processors, and message brokers. What are...',\n",
       "  'mobile_short_description': 'Data is at the center of many challenges in system design today. Difficult issues need to be figured...',\n",
       "  'is_preorder': False,\n",
       "  'is_available': True,\n",
       "  'preorder_url': '/account/preorder/?bookId=95729334',\n",
       "  'add_to_cart_url': '/cart/add/95729334/',\n",
       "  'currency_symbol': '€',\n",
       "  'price_number': 32.635,\n",
       "  'on_sale_date': '2017-03-16T00:00:00',\n",
       "  'short_publication_date': 'Mar 2017'},\n",
       " {'id': 210531368,\n",
       "  'book_url': '/en-de/book/210531368/fluent-python/luciano-ramalho/',\n",
       "  'image_url': 'https://image.ebooks.com/previews/210/210531/210531368/210531368-sml-1.jpg',\n",
       "  'image_alt_tag': 'Fluent Python',\n",
       "  'title': 'Fluent Python',\n",
       "  'edition': ' (2nd ed.)',\n",
       "  'subtitle': '',\n",
       "  'authors': [{'author_name': 'Luciano Ramalho',\n",
       "    'author_url': '/en-de/author/luciano-ramalho/983436/'}],\n",
       "  'num_authors': 1,\n",
       "  'series': ' Series',\n",
       "  'series_number': '',\n",
       "  'has_series': False,\n",
       "  'series_url': '',\n",
       "  'publisher': \"O'Reilly Media\",\n",
       "  'publication_year': '2022',\n",
       "  'price': '48,14 €',\n",
       "  'desktop_short_description': \"Don't waste time bending Python to fit patterns you've learned in other languages. Python's simplicity lets you become productive quickly, but often this means you aren't using everything the language has to offer. With the updated edition of this hands-on guide, you'll learn how to write effective, modern Python 3 code by leveraging its best...\",\n",
       "  'mobile_short_description': \"Don't waste time bending Python to fit patterns you've learned in other languages. Python's...\",\n",
       "  'is_preorder': False,\n",
       "  'is_available': True,\n",
       "  'preorder_url': '/account/preorder/?bookId=210531368',\n",
       "  'add_to_cart_url': '/cart/add/210531368/',\n",
       "  'currency_symbol': '€',\n",
       "  'price_number': 48.1393,\n",
       "  'on_sale_date': '2022-03-31T00:00:00',\n",
       "  'short_publication_date': 'Mar 2022'},\n",
       " {'id': 210338899,\n",
       "  'book_url': '/en-de/book/210338899/building-microservices/sam-newman/',\n",
       "  'image_url': 'https://image.ebooks.com/previews/210/210338/210338899/210338899-sml-1.jpg',\n",
       "  'image_alt_tag': 'Building Microservices',\n",
       "  'title': 'Building Microservices',\n",
       "  'edition': ' (2nd ed.)',\n",
       "  'subtitle': '',\n",
       "  'authors': [{'author_name': 'Sam Newman',\n",
       "    'author_url': '/en-de/author/sam-newman/748359/'}],\n",
       "  'num_authors': 1,\n",
       "  'series': ' Series',\n",
       "  'series_number': '',\n",
       "  'has_series': False,\n",
       "  'series_url': '',\n",
       "  'publisher': \"O'Reilly Media\",\n",
       "  'publication_year': '2021',\n",
       "  'price': '40,65 €',\n",
       "  'desktop_short_description': 'As organizations shift from monolithic applications to smaller, self-contained microservices, distributed systems have become more fine-grained. But developing these new systems brings its own host of problems. This expanded second edition takes a holistic view of topics that you need to consider when building, managing, and scaling microservices...',\n",
       "  'mobile_short_description': 'As organizations shift from monolithic applications to smaller, self-contained microservices,...',\n",
       "  'is_preorder': False,\n",
       "  'is_available': True,\n",
       "  'preorder_url': '/account/preorder/?bookId=210338899',\n",
       "  'add_to_cart_url': '/cart/add/210338899/',\n",
       "  'currency_symbol': '€',\n",
       "  'price_number': 40.6493,\n",
       "  'on_sale_date': '2021-07-24T00:00:00',\n",
       "  'short_publication_date': 'Jul 2021'},\n",
       " {'id': 209971850,\n",
       "  'book_url': '/en-de/book/209971850/architecture-patterns-with-python/harry-percival/',\n",
       "  'image_url': 'https://image.ebooks.com/previews/209/209971/209971850/209971850-sml-1.jpg',\n",
       "  'image_alt_tag': 'Architecture Patterns with Python: Enabling Test-Driven Development, Domain-Driven Design, and Event-Driven Microservices',\n",
       "  'title': 'Architecture Patterns with Python',\n",
       "  'edition': '',\n",
       "  'subtitle': 'Enabling Test-Driven Development, Domain-Driven Design, and Event-Driven Microservices',\n",
       "  'authors': [{'author_name': 'Harry Percival',\n",
       "    'author_url': '/en-de/author/harry-percival/208223117/'},\n",
       "   {'author_name': 'Bob Gregory',\n",
       "    'author_url': '/en-de/author/bob-gregory/208376402/'}],\n",
       "  'num_authors': 2,\n",
       "  'series': ' Series',\n",
       "  'series_number': '',\n",
       "  'has_series': False,\n",
       "  'series_url': '',\n",
       "  'publisher': \"O'Reilly Media\",\n",
       "  'publication_year': '2020',\n",
       "  'price': '34,23 €',\n",
       "  'desktop_short_description': 'As Python continues to grow in popularity, projects are becoming larger and more complex. Many Python developers are now taking an interest in high-level software design patterns such as hexagonal/clean architecture, event-driven architecture, and the strategic patterns prescribed by domain-driven design (DDD). But translating those patterns into...',\n",
       "  'mobile_short_description': 'As Python continues to grow in popularity, projects are becoming larger and more complex. Many...',\n",
       "  'is_preorder': False,\n",
       "  'is_available': True,\n",
       "  'preorder_url': '/account/preorder/?bookId=209971850',\n",
       "  'add_to_cart_url': '/cart/add/209971850/',\n",
       "  'currency_symbol': '€',\n",
       "  'price_number': 34.2293,\n",
       "  'on_sale_date': '2020-03-05T00:00:00',\n",
       "  'short_publication_date': 'Mar 2020'},\n",
       " {'id': 95871448,\n",
       "  'book_url': '/en-de/book/95871448/python-for-data-analysis/wes-mckinney/',\n",
       "  'image_url': 'https://image.ebooks.com/previews/095/095871/095871448/095871448-sml-1.jpg',\n",
       "  'image_alt_tag': 'Python for Data Analysis: Data Wrangling with Pandas, NumPy, and IPython',\n",
       "  'title': 'Python for Data Analysis',\n",
       "  'edition': ' (2nd ed.)',\n",
       "  'subtitle': 'Data Wrangling with Pandas, NumPy, and IPython',\n",
       "  'authors': [{'author_name': 'Wes McKinney',\n",
       "    'author_url': '/en-de/author/wes-mckinney/513179/'}],\n",
       "  'num_authors': 1,\n",
       "  'series': ' Series',\n",
       "  'series_number': '',\n",
       "  'has_series': False,\n",
       "  'series_url': '',\n",
       "  'publisher': \"O'Reilly Media\",\n",
       "  'publication_year': '2017',\n",
       "  'price': '34,23 €',\n",
       "  'desktop_short_description': 'Get complete instructions for manipulating, processing, cleaning, and crunching datasets in Python. Updated for Python 3.6, the second edition of this hands-on guide is packed with practical case studies that show you how to solve a broad set of data analysis problems effectively. You’ll learn the latest versions of pandas, NumPy, IPython, and...',\n",
       "  'mobile_short_description': 'Get complete instructions for manipulating, processing, cleaning, and crunching datasets in Python....',\n",
       "  'is_preorder': False,\n",
       "  'is_available': True,\n",
       "  'preorder_url': '/account/preorder/?bookId=95871448',\n",
       "  'add_to_cart_url': '/cart/add/95871448/',\n",
       "  'currency_symbol': '€',\n",
       "  'price_number': 34.2293,\n",
       "  'on_sale_date': '2017-09-25T00:00:00',\n",
       "  'short_publication_date': 'Sep 2017'},\n",
       " {'id': 209970024,\n",
       "  'book_url': '/en-de/book/209970024/software-engineering-at-google/titus-winters/',\n",
       "  'image_url': 'https://image.ebooks.com/previews/209/209970/209970024/209970024-sml-1.jpg',\n",
       "  'image_alt_tag': 'Software Engineering at Google: Lessons Learned from Programming Over Time',\n",
       "  'title': 'Software Engineering at Google',\n",
       "  'edition': '',\n",
       "  'subtitle': 'Lessons Learned from Programming Over Time',\n",
       "  'authors': [{'author_name': 'Titus Winters',\n",
       "    'author_url': '/en-de/author/titus-winters/208375647/'},\n",
       "   {'author_name': 'Tom Manshreck',\n",
       "    'author_url': '/en-de/author/tom-manshreck/208375648/'}],\n",
       "  'num_authors': 3,\n",
       "  'series': ' Series',\n",
       "  'series_number': '',\n",
       "  'has_series': False,\n",
       "  'series_url': '',\n",
       "  'publisher': \"O'Reilly Media\",\n",
       "  'publication_year': '2020',\n",
       "  'price': '40,65 €',\n",
       "  'desktop_short_description': 'Today, software engineers need to know not only how to program effectively but also how to develop proper engineering practices to make their codebase sustainable and healthy. This book emphasizes this difference between programming and software engineering.  How can software engineers manage a living codebase that evolves and responds to changing...',\n",
       "  'mobile_short_description': 'Today, software engineers need to know not only how to program effectively but also how to develop...',\n",
       "  'is_preorder': False,\n",
       "  'is_available': True,\n",
       "  'preorder_url': '/account/preorder/?bookId=209970024',\n",
       "  'add_to_cart_url': '/cart/add/209970024/',\n",
       "  'currency_symbol': '€',\n",
       "  'price_number': 40.6493,\n",
       "  'on_sale_date': '2020-02-28T00:00:00',\n",
       "  'short_publication_date': 'Feb 2020'},\n",
       " {'id': 210124083,\n",
       "  'book_url': '/en-de/book/210124083/comptia-security-sy0-601-exam-cram/martin-m-weiss/',\n",
       "  'image_url': 'https://image.ebooks.com/previews/210/210124/210124083/210124083-sml-1.jpg',\n",
       "  'image_alt_tag': 'CompTIA Security&#x2B; SY0-601 Exam Cram',\n",
       "  'title': 'CompTIA Security+ SY0-601 Exam Cram',\n",
       "  'edition': ' (6th ed.)',\n",
       "  'subtitle': '',\n",
       "  'authors': [{'author_name': 'Martin M. Weiss',\n",
       "    'author_url': '/en-de/author/martin-m.-weiss/94214231/'}],\n",
       "  'num_authors': 1,\n",
       "  'series': ' Series',\n",
       "  'series_number': '',\n",
       "  'has_series': False,\n",
       "  'series_url': '',\n",
       "  'publisher': 'Pearson Education',\n",
       "  'publication_year': '2020',\n",
       "  'price': '36,69 €',\n",
       "  'desktop_short_description': 'Prepare for CompTIA Security+ SY0-601 exam success with this Exam Cram from Pearson IT Certification, a leader in IT certification.                    This is the eBook edition of the   CompTIA Security+ SY0-601 Exam Cram , Sixth Edition. This eBook does not include access to the Pearson Test Prep practice exams that comes with the print edition.  ...',\n",
       "  'mobile_short_description': 'Prepare for CompTIA Security+ SY0-601 exam success with this Exam Cram from Pearson IT...',\n",
       "  'is_preorder': False,\n",
       "  'is_available': True,\n",
       "  'preorder_url': '/account/preorder/?bookId=210124083',\n",
       "  'add_to_cart_url': '/cart/add/210124083/',\n",
       "  'currency_symbol': '€',\n",
       "  'price_number': 36.688965389,\n",
       "  'on_sale_date': '2020-10-30T00:00:00',\n",
       "  'short_publication_date': 'Oct 2020'},\n",
       " {'id': 210180129,\n",
       "  'book_url': '/en-de/book/210180129/head-first-c/andrew-stellman/',\n",
       "  'image_url': 'https://image.ebooks.com/previews/210/210180/210180129/210180129-sml-1.jpg',\n",
       "  'image_alt_tag': 'Head First C#',\n",
       "  'title': 'Head First C#',\n",
       "  'edition': ' (4th ed.)',\n",
       "  'subtitle': '',\n",
       "  'authors': [{'author_name': 'Andrew Stellman',\n",
       "    'author_url': '/en-de/author/andrew-stellman/182816/'},\n",
       "   {'author_name': 'Jennifer Greene',\n",
       "    'author_url': '/en-de/author/jennifer-greene/67758/'}],\n",
       "  'num_authors': 2,\n",
       "  'series': ' Series',\n",
       "  'series_number': '',\n",
       "  'has_series': False,\n",
       "  'series_url': '',\n",
       "  'publisher': \"O'Reilly Media\",\n",
       "  'publication_year': '2020',\n",
       "  'price': '37,44 €',\n",
       "  'desktop_short_description': 'What will you learn from this book?   Dive into C# and create apps, user interfaces, games, and more using this fun and highly visual introduction to C#, .NET Core, and Visual Studio. With this completely updated guide, which covers C# 8.0 and Visual Studio 2019, beginning programmers like you will build a fully functional game in the opening...',\n",
       "  'mobile_short_description': 'What will you learn from this book?   Dive into C# and create apps, user interfaces, games, and more...',\n",
       "  'is_preorder': False,\n",
       "  'is_available': True,\n",
       "  'preorder_url': '/account/preorder/?bookId=210180129',\n",
       "  'add_to_cart_url': '/cart/add/210180129/',\n",
       "  'currency_symbol': '€',\n",
       "  'price_number': 37.4393,\n",
       "  'on_sale_date': '2020-12-04T00:00:00',\n",
       "  'short_publication_date': 'Dec 2020'},\n",
       " {'id': 210491752,\n",
       "  'book_url': '/en-de/book/210491752/c-10-in-a-nutshell/joseph-albahari/',\n",
       "  'image_url': 'https://image.ebooks.com/previews/210/210491/210491752/210491752-sml-1.jpg',\n",
       "  'image_alt_tag': 'C# 10 in a Nutshell',\n",
       "  'title': 'C# 10 in a Nutshell',\n",
       "  'edition': '',\n",
       "  'subtitle': '',\n",
       "  'authors': [{'author_name': 'Joseph Albahari',\n",
       "    'author_url': '/en-de/author/joseph-albahari/182770/'}],\n",
       "  'num_authors': 1,\n",
       "  'series': ' Series',\n",
       "  'series_number': '',\n",
       "  'has_series': False,\n",
       "  'series_url': '',\n",
       "  'publisher': \"O'Reilly Media\",\n",
       "  'publication_year': '2022',\n",
       "  'price': '54,56 €',\n",
       "  'desktop_short_description': \"When you have questions about C# 10 or .NET 6, this best-selling guide has the answers you need. C# is a language of unusual flexibility and breadth, and with its continual growth, there's always so much more to learn. In the tradition of O'Reilly's Nutshell guides, this thoroughly updated edition is simply the best one-volume reference to the C#...\",\n",
       "  'mobile_short_description': 'When you have questions about C# 10 or .NET 6, this best-selling guide has the answers you need. C#...',\n",
       "  'is_preorder': False,\n",
       "  'is_available': True,\n",
       "  'preorder_url': '/account/preorder/?bookId=210491752',\n",
       "  'add_to_cart_url': '/cart/add/210491752/',\n",
       "  'currency_symbol': '€',\n",
       "  'price_number': 54.5593,\n",
       "  'on_sale_date': '2022-02-07T00:00:00',\n",
       "  'short_publication_date': 'Feb 2022'},\n",
       " {'id': 210091243,\n",
       "  'book_url': '/en-de/book/210091243/data-management-at-scale/piethein-strengholt/',\n",
       "  'image_url': 'https://image.ebooks.com/previews/210/210091/210091243/210091243-sml-1.jpg',\n",
       "  'image_alt_tag': 'Data Management at Scale',\n",
       "  'title': 'Data Management at Scale',\n",
       "  'edition': '',\n",
       "  'subtitle': '',\n",
       "  'authors': [{'author_name': 'Piethein Strengholt',\n",
       "    'author_url': '/en-de/author/piethein-strengholt/208439016/'}],\n",
       "  'num_authors': 1,\n",
       "  'series': ' Series',\n",
       "  'series_number': '',\n",
       "  'has_series': False,\n",
       "  'series_url': '',\n",
       "  'publisher': \"O'Reilly Media\",\n",
       "  'publication_year': '2020',\n",
       "  'price': '48,14 €',\n",
       "  'desktop_short_description': 'As data management and integration continue to evolve rapidly, storing all your data in one place, such as a data warehouse, is no longer scalable. In the very near future, data will need to be distributed and available for several technological solutions. With this practical book, you’ll learnhow to migrate your enterprise from a complex and...',\n",
       "  'mobile_short_description': 'As data management and integration continue to evolve rapidly, storing all your data in one place,...',\n",
       "  'is_preorder': False,\n",
       "  'is_available': True,\n",
       "  'preorder_url': '/account/preorder/?bookId=210091243',\n",
       "  'add_to_cart_url': '/cart/add/210091243/',\n",
       "  'currency_symbol': '€',\n",
       "  'price_number': 48.1393,\n",
       "  'on_sale_date': '2020-07-29T00:00:00',\n",
       "  'short_publication_date': 'Jul 2020'}]"
      ]
     },
     "execution_count": 21,
     "metadata": {},
     "output_type": "execute_result"
    }
   ],
   "source": [
    "response.json()['books']"
   ]
  },
  {
   "cell_type": "code",
   "execution_count": 22,
   "id": "1c9ef5fc-b191-4449-9d58-787ec0d228f0",
   "metadata": {},
   "outputs": [
    {
     "data": {
      "text/plain": [
       "10"
      ]
     },
     "execution_count": 22,
     "metadata": {},
     "output_type": "execute_result"
    }
   ],
   "source": [
    "len(response.json()['books'])"
   ]
  },
  {
   "cell_type": "code",
   "execution_count": 25,
   "id": "7fa3815a-2846-4885-b659-9b0937b38688",
   "metadata": {},
   "outputs": [],
   "source": [
    "results_json = response.json()['books']"
   ]
  },
  {
   "cell_type": "code",
   "execution_count": 27,
   "id": "20731ae8-aff6-4ba5-bb22-ea2c180e6df4",
   "metadata": {},
   "outputs": [
    {
     "data": {
      "text/plain": [
       "'Designing Data-Intensive Applications'"
      ]
     },
     "execution_count": 27,
     "metadata": {},
     "output_type": "execute_result"
    }
   ],
   "source": [
    "# title\n",
    "results_json[0]['title']"
   ]
  },
  {
   "cell_type": "code",
   "execution_count": 28,
   "id": "f9d5e490-6fb3-4802-ac77-da09ce1a482d",
   "metadata": {},
   "outputs": [
    {
     "data": {
      "text/plain": [
       "'The Big Ideas Behind Reliable, Scalable, and Maintainable Systems'"
      ]
     },
     "execution_count": 28,
     "metadata": {},
     "output_type": "execute_result"
    }
   ],
   "source": [
    "# subtitle\n",
    "results_json[0]['subtitle']"
   ]
  },
  {
   "cell_type": "code",
   "execution_count": 33,
   "id": "3c7c4c88-5e7c-4cc9-b4fd-6dcbf7bed03a",
   "metadata": {},
   "outputs": [
    {
     "data": {
      "text/plain": [
       "'Martin Kleppmann'"
      ]
     },
     "execution_count": 33,
     "metadata": {},
     "output_type": "execute_result"
    }
   ],
   "source": [
    "# author\n",
    "results_json[0]['authors'][0]['author_name']"
   ]
  },
  {
   "cell_type": "code",
   "execution_count": 34,
   "id": "0057f797-60a0-47f1-9f4c-298699121752",
   "metadata": {},
   "outputs": [
    {
     "data": {
      "text/plain": [
       "\"O'Reilly Media\""
      ]
     },
     "execution_count": 34,
     "metadata": {},
     "output_type": "execute_result"
    }
   ],
   "source": [
    "# publisher\n",
    "results_json[0]['publisher']"
   ]
  },
  {
   "cell_type": "code",
   "execution_count": 36,
   "id": "fff1af67-6000-461c-9903-339aedf35d25",
   "metadata": {},
   "outputs": [
    {
     "data": {
      "text/plain": [
       "'2017'"
      ]
     },
     "execution_count": 36,
     "metadata": {},
     "output_type": "execute_result"
    }
   ],
   "source": [
    "# publication year\n",
    "results_json[0]['publication_year']"
   ]
  },
  {
   "cell_type": "code",
   "execution_count": 37,
   "id": "bf8e56b3-08e7-45ff-ab30-9071a495954c",
   "metadata": {},
   "outputs": [
    {
     "data": {
      "text/plain": [
       "'32,64 €'"
      ]
     },
     "execution_count": 37,
     "metadata": {},
     "output_type": "execute_result"
    }
   ],
   "source": [
    "# price\n",
    "results_json[0]['price']"
   ]
  },
  {
   "cell_type": "markdown",
   "id": "97bf0a38-8d7c-409d-a2d0-6a1e2ef84d68",
   "metadata": {},
   "source": [
    "### Step 7 - Put everything together - Loop through results and append date inside a list"
   ]
  },
  {
   "cell_type": "code",
   "execution_count": 54,
   "id": "2840b021-6517-433b-a145-36af26a21aa9",
   "metadata": {},
   "outputs": [],
   "source": [
    "title = []\n",
    "subtitle = []\n",
    "author = []\n",
    "publisher = []\n",
    "publication_year = []\n",
    "price = []\n",
    "\n",
    "for result in results_json:\n",
    "    # title\n",
    "    title.append(result['title'])\n",
    "    \n",
    "    # subtitle\n",
    "    subtitle.append(result['subtitle'])\n",
    "    \n",
    "    # author name\n",
    "    author.append(result['authors'][0]['author_name'])\n",
    "    \n",
    "    # publisher\n",
    "    publisher.append(result['publisher'])\n",
    "    \n",
    "    #publication_year\n",
    "    publication_year.append(result['publication_year'])\n",
    "    \n",
    "    # price\n",
    "    price.append(result['price'])\n",
    "        "
   ]
  },
  {
   "cell_type": "code",
   "execution_count": 55,
   "id": "e03d8de9-0484-44fa-a1f7-d8f5eb5d0340",
   "metadata": {},
   "outputs": [
    {
     "data": {
      "text/plain": [
       "['Designing Data-Intensive Applications',\n",
       " 'Fluent Python',\n",
       " 'Building Microservices',\n",
       " 'Architecture Patterns with Python',\n",
       " 'Python for Data Analysis',\n",
       " 'Software Engineering at Google',\n",
       " 'CompTIA Security+ SY0-601 Exam Cram',\n",
       " 'Head First C#',\n",
       " 'C# 10 in a Nutshell',\n",
       " 'Data Management at Scale']"
      ]
     },
     "execution_count": 55,
     "metadata": {},
     "output_type": "execute_result"
    }
   ],
   "source": [
    "title"
   ]
  },
  {
   "cell_type": "code",
   "execution_count": 56,
   "id": "fb8b34cc-1272-425f-8248-2bb2ca9a09a7",
   "metadata": {},
   "outputs": [
    {
     "data": {
      "text/plain": [
       "['The Big Ideas Behind Reliable, Scalable, and Maintainable Systems',\n",
       " '',\n",
       " '',\n",
       " 'Enabling Test-Driven Development, Domain-Driven Design, and Event-Driven Microservices',\n",
       " 'Data Wrangling with Pandas, NumPy, and IPython',\n",
       " 'Lessons Learned from Programming Over Time',\n",
       " '',\n",
       " '',\n",
       " '',\n",
       " '']"
      ]
     },
     "execution_count": 56,
     "metadata": {},
     "output_type": "execute_result"
    }
   ],
   "source": [
    "subtitle"
   ]
  },
  {
   "cell_type": "code",
   "execution_count": 57,
   "id": "79a3f56a-3bb4-4b7e-8324-11e2345e01f7",
   "metadata": {},
   "outputs": [
    {
     "data": {
      "text/plain": [
       "['Martin Kleppmann',\n",
       " 'Luciano Ramalho',\n",
       " 'Sam Newman',\n",
       " 'Harry Percival',\n",
       " 'Wes McKinney',\n",
       " 'Titus Winters',\n",
       " 'Martin M. Weiss',\n",
       " 'Andrew Stellman',\n",
       " 'Joseph Albahari',\n",
       " 'Piethein Strengholt']"
      ]
     },
     "execution_count": 57,
     "metadata": {},
     "output_type": "execute_result"
    }
   ],
   "source": [
    "author"
   ]
  },
  {
   "cell_type": "code",
   "execution_count": 58,
   "id": "6e9f6fe2-6cec-4c8f-a00d-0cb7af3c69c6",
   "metadata": {},
   "outputs": [
    {
     "data": {
      "text/plain": [
       "[\"O'Reilly Media\",\n",
       " \"O'Reilly Media\",\n",
       " \"O'Reilly Media\",\n",
       " \"O'Reilly Media\",\n",
       " \"O'Reilly Media\",\n",
       " \"O'Reilly Media\",\n",
       " 'Pearson Education',\n",
       " \"O'Reilly Media\",\n",
       " \"O'Reilly Media\",\n",
       " \"O'Reilly Media\"]"
      ]
     },
     "execution_count": 58,
     "metadata": {},
     "output_type": "execute_result"
    }
   ],
   "source": [
    "publisher"
   ]
  },
  {
   "cell_type": "code",
   "execution_count": 59,
   "id": "a3145d09-1c10-4abb-a069-52386937ec48",
   "metadata": {},
   "outputs": [
    {
     "data": {
      "text/plain": [
       "['2017',\n",
       " '2022',\n",
       " '2021',\n",
       " '2020',\n",
       " '2017',\n",
       " '2020',\n",
       " '2020',\n",
       " '2020',\n",
       " '2022',\n",
       " '2020']"
      ]
     },
     "execution_count": 59,
     "metadata": {},
     "output_type": "execute_result"
    }
   ],
   "source": [
    "publication_year"
   ]
  },
  {
   "cell_type": "code",
   "execution_count": 60,
   "id": "562fcaa3-09b5-4c86-b18b-53b078f223a2",
   "metadata": {},
   "outputs": [
    {
     "data": {
      "text/plain": [
       "['32,64 €',\n",
       " '48,14 €',\n",
       " '40,65 €',\n",
       " '34,23 €',\n",
       " '34,23 €',\n",
       " '40,65 €',\n",
       " '36,69 €',\n",
       " '37,44 €',\n",
       " '54,56 €',\n",
       " '48,14 €']"
      ]
     },
     "execution_count": 60,
     "metadata": {},
     "output_type": "execute_result"
    }
   ],
   "source": [
    "price"
   ]
  },
  {
   "cell_type": "markdown",
   "id": "b98b7f61-a8c9-4925-9df5-5972ddefabbf",
   "metadata": {},
   "source": [
    "### Step 8 - Pnadas Dataframe"
   ]
  },
  {
   "cell_type": "code",
   "execution_count": 61,
   "id": "c0225e18-e69d-42ea-b137-79e679851aa3",
   "metadata": {},
   "outputs": [],
   "source": [
    "books_df = pd.DataFrame({'Title': title, 'Subtitle': subtitle, 'Author': author, 'Publisher': publisher, 'Publication Year': publication_year, 'Price': price})"
   ]
  },
  {
   "cell_type": "code",
   "execution_count": 62,
   "id": "8113ade6-0aed-4bc3-94f3-b8f2b66bf2c2",
   "metadata": {},
   "outputs": [
    {
     "data": {
      "text/html": [
       "<div>\n",
       "<style scoped>\n",
       "    .dataframe tbody tr th:only-of-type {\n",
       "        vertical-align: middle;\n",
       "    }\n",
       "\n",
       "    .dataframe tbody tr th {\n",
       "        vertical-align: top;\n",
       "    }\n",
       "\n",
       "    .dataframe thead th {\n",
       "        text-align: right;\n",
       "    }\n",
       "</style>\n",
       "<table border=\"1\" class=\"dataframe\">\n",
       "  <thead>\n",
       "    <tr style=\"text-align: right;\">\n",
       "      <th></th>\n",
       "      <th>Title</th>\n",
       "      <th>Subtitle</th>\n",
       "      <th>Author</th>\n",
       "      <th>Publisher</th>\n",
       "      <th>Publication Year</th>\n",
       "      <th>Price</th>\n",
       "    </tr>\n",
       "  </thead>\n",
       "  <tbody>\n",
       "    <tr>\n",
       "      <th>0</th>\n",
       "      <td>Designing Data-Intensive Applications</td>\n",
       "      <td>The Big Ideas Behind Reliable, Scalable, and M...</td>\n",
       "      <td>Martin Kleppmann</td>\n",
       "      <td>O'Reilly Media</td>\n",
       "      <td>2017</td>\n",
       "      <td>32,64 €</td>\n",
       "    </tr>\n",
       "    <tr>\n",
       "      <th>1</th>\n",
       "      <td>Fluent Python</td>\n",
       "      <td></td>\n",
       "      <td>Luciano Ramalho</td>\n",
       "      <td>O'Reilly Media</td>\n",
       "      <td>2022</td>\n",
       "      <td>48,14 €</td>\n",
       "    </tr>\n",
       "    <tr>\n",
       "      <th>2</th>\n",
       "      <td>Building Microservices</td>\n",
       "      <td></td>\n",
       "      <td>Sam Newman</td>\n",
       "      <td>O'Reilly Media</td>\n",
       "      <td>2021</td>\n",
       "      <td>40,65 €</td>\n",
       "    </tr>\n",
       "    <tr>\n",
       "      <th>3</th>\n",
       "      <td>Architecture Patterns with Python</td>\n",
       "      <td>Enabling Test-Driven Development, Domain-Drive...</td>\n",
       "      <td>Harry Percival</td>\n",
       "      <td>O'Reilly Media</td>\n",
       "      <td>2020</td>\n",
       "      <td>34,23 €</td>\n",
       "    </tr>\n",
       "    <tr>\n",
       "      <th>4</th>\n",
       "      <td>Python for Data Analysis</td>\n",
       "      <td>Data Wrangling with Pandas, NumPy, and IPython</td>\n",
       "      <td>Wes McKinney</td>\n",
       "      <td>O'Reilly Media</td>\n",
       "      <td>2017</td>\n",
       "      <td>34,23 €</td>\n",
       "    </tr>\n",
       "  </tbody>\n",
       "</table>\n",
       "</div>"
      ],
      "text/plain": [
       "                                   Title  \\\n",
       "0  Designing Data-Intensive Applications   \n",
       "1                          Fluent Python   \n",
       "2                 Building Microservices   \n",
       "3      Architecture Patterns with Python   \n",
       "4               Python for Data Analysis   \n",
       "\n",
       "                                            Subtitle            Author  \\\n",
       "0  The Big Ideas Behind Reliable, Scalable, and M...  Martin Kleppmann   \n",
       "1                                                      Luciano Ramalho   \n",
       "2                                                           Sam Newman   \n",
       "3  Enabling Test-Driven Development, Domain-Drive...    Harry Percival   \n",
       "4     Data Wrangling with Pandas, NumPy, and IPython      Wes McKinney   \n",
       "\n",
       "        Publisher Publication Year    Price  \n",
       "0  O'Reilly Media             2017  32,64 €  \n",
       "1  O'Reilly Media             2022  48,14 €  \n",
       "2  O'Reilly Media             2021  40,65 €  \n",
       "3  O'Reilly Media             2020  34,23 €  \n",
       "4  O'Reilly Media             2017  34,23 €  "
      ]
     },
     "execution_count": 62,
     "metadata": {},
     "output_type": "execute_result"
    }
   ],
   "source": [
    "books_df.head()"
   ]
  },
  {
   "cell_type": "code",
   "execution_count": 63,
   "id": "780220ab-d5ac-4f0f-b964-04c67cbd5025",
   "metadata": {},
   "outputs": [
    {
     "data": {
      "text/html": [
       "<div>\n",
       "<style scoped>\n",
       "    .dataframe tbody tr th:only-of-type {\n",
       "        vertical-align: middle;\n",
       "    }\n",
       "\n",
       "    .dataframe tbody tr th {\n",
       "        vertical-align: top;\n",
       "    }\n",
       "\n",
       "    .dataframe thead th {\n",
       "        text-align: right;\n",
       "    }\n",
       "</style>\n",
       "<table border=\"1\" class=\"dataframe\">\n",
       "  <thead>\n",
       "    <tr style=\"text-align: right;\">\n",
       "      <th></th>\n",
       "      <th>Title</th>\n",
       "      <th>Subtitle</th>\n",
       "      <th>Author</th>\n",
       "      <th>Publisher</th>\n",
       "      <th>Publication Year</th>\n",
       "      <th>Price</th>\n",
       "    </tr>\n",
       "  </thead>\n",
       "  <tbody>\n",
       "    <tr>\n",
       "      <th>0</th>\n",
       "      <td>Designing Data-Intensive Applications</td>\n",
       "      <td>The Big Ideas Behind Reliable, Scalable, and M...</td>\n",
       "      <td>Martin Kleppmann</td>\n",
       "      <td>O'Reilly Media</td>\n",
       "      <td>2017</td>\n",
       "      <td>32,64 €</td>\n",
       "    </tr>\n",
       "    <tr>\n",
       "      <th>1</th>\n",
       "      <td>Fluent Python</td>\n",
       "      <td></td>\n",
       "      <td>Luciano Ramalho</td>\n",
       "      <td>O'Reilly Media</td>\n",
       "      <td>2022</td>\n",
       "      <td>48,14 €</td>\n",
       "    </tr>\n",
       "    <tr>\n",
       "      <th>2</th>\n",
       "      <td>Building Microservices</td>\n",
       "      <td></td>\n",
       "      <td>Sam Newman</td>\n",
       "      <td>O'Reilly Media</td>\n",
       "      <td>2021</td>\n",
       "      <td>40,65 €</td>\n",
       "    </tr>\n",
       "    <tr>\n",
       "      <th>3</th>\n",
       "      <td>Architecture Patterns with Python</td>\n",
       "      <td>Enabling Test-Driven Development, Domain-Drive...</td>\n",
       "      <td>Harry Percival</td>\n",
       "      <td>O'Reilly Media</td>\n",
       "      <td>2020</td>\n",
       "      <td>34,23 €</td>\n",
       "    </tr>\n",
       "    <tr>\n",
       "      <th>4</th>\n",
       "      <td>Python for Data Analysis</td>\n",
       "      <td>Data Wrangling with Pandas, NumPy, and IPython</td>\n",
       "      <td>Wes McKinney</td>\n",
       "      <td>O'Reilly Media</td>\n",
       "      <td>2017</td>\n",
       "      <td>34,23 €</td>\n",
       "    </tr>\n",
       "    <tr>\n",
       "      <th>5</th>\n",
       "      <td>Software Engineering at Google</td>\n",
       "      <td>Lessons Learned from Programming Over Time</td>\n",
       "      <td>Titus Winters</td>\n",
       "      <td>O'Reilly Media</td>\n",
       "      <td>2020</td>\n",
       "      <td>40,65 €</td>\n",
       "    </tr>\n",
       "    <tr>\n",
       "      <th>6</th>\n",
       "      <td>CompTIA Security+ SY0-601 Exam Cram</td>\n",
       "      <td></td>\n",
       "      <td>Martin M. Weiss</td>\n",
       "      <td>Pearson Education</td>\n",
       "      <td>2020</td>\n",
       "      <td>36,69 €</td>\n",
       "    </tr>\n",
       "    <tr>\n",
       "      <th>7</th>\n",
       "      <td>Head First C#</td>\n",
       "      <td></td>\n",
       "      <td>Andrew Stellman</td>\n",
       "      <td>O'Reilly Media</td>\n",
       "      <td>2020</td>\n",
       "      <td>37,44 €</td>\n",
       "    </tr>\n",
       "    <tr>\n",
       "      <th>8</th>\n",
       "      <td>C# 10 in a Nutshell</td>\n",
       "      <td></td>\n",
       "      <td>Joseph Albahari</td>\n",
       "      <td>O'Reilly Media</td>\n",
       "      <td>2022</td>\n",
       "      <td>54,56 €</td>\n",
       "    </tr>\n",
       "    <tr>\n",
       "      <th>9</th>\n",
       "      <td>Data Management at Scale</td>\n",
       "      <td></td>\n",
       "      <td>Piethein Strengholt</td>\n",
       "      <td>O'Reilly Media</td>\n",
       "      <td>2020</td>\n",
       "      <td>48,14 €</td>\n",
       "    </tr>\n",
       "  </tbody>\n",
       "</table>\n",
       "</div>"
      ],
      "text/plain": [
       "                                   Title  \\\n",
       "0  Designing Data-Intensive Applications   \n",
       "1                          Fluent Python   \n",
       "2                 Building Microservices   \n",
       "3      Architecture Patterns with Python   \n",
       "4               Python for Data Analysis   \n",
       "5         Software Engineering at Google   \n",
       "6    CompTIA Security+ SY0-601 Exam Cram   \n",
       "7                          Head First C#   \n",
       "8                    C# 10 in a Nutshell   \n",
       "9               Data Management at Scale   \n",
       "\n",
       "                                            Subtitle               Author  \\\n",
       "0  The Big Ideas Behind Reliable, Scalable, and M...     Martin Kleppmann   \n",
       "1                                                         Luciano Ramalho   \n",
       "2                                                              Sam Newman   \n",
       "3  Enabling Test-Driven Development, Domain-Drive...       Harry Percival   \n",
       "4     Data Wrangling with Pandas, NumPy, and IPython         Wes McKinney   \n",
       "5         Lessons Learned from Programming Over Time        Titus Winters   \n",
       "6                                                         Martin M. Weiss   \n",
       "7                                                         Andrew Stellman   \n",
       "8                                                         Joseph Albahari   \n",
       "9                                                     Piethein Strengholt   \n",
       "\n",
       "           Publisher Publication Year    Price  \n",
       "0     O'Reilly Media             2017  32,64 €  \n",
       "1     O'Reilly Media             2022  48,14 €  \n",
       "2     O'Reilly Media             2021  40,65 €  \n",
       "3     O'Reilly Media             2020  34,23 €  \n",
       "4     O'Reilly Media             2017  34,23 €  \n",
       "5     O'Reilly Media             2020  40,65 €  \n",
       "6  Pearson Education             2020  36,69 €  \n",
       "7     O'Reilly Media             2020  37,44 €  \n",
       "8     O'Reilly Media             2022  54,56 €  \n",
       "9     O'Reilly Media             2020  48,14 €  "
      ]
     },
     "execution_count": 63,
     "metadata": {},
     "output_type": "execute_result"
    }
   ],
   "source": [
    "books_df"
   ]
  },
  {
   "cell_type": "markdown",
   "id": "55e5752c-7295-4365-a052-099d1217dbf7",
   "metadata": {},
   "source": [
    "### Step 9 - Store reulsts in Excel"
   ]
  },
  {
   "cell_type": "code",
   "execution_count": 68,
   "id": "1e4a0e56-e055-4c9e-a13d-1e66976c1f5d",
   "metadata": {},
   "outputs": [],
   "source": [
    "books_df.to_csv('books.csv', index=False)"
   ]
  },
  {
   "cell_type": "code",
   "execution_count": null,
   "id": "a54f68fa-24d5-4898-8e60-69756cfdd001",
   "metadata": {},
   "outputs": [],
   "source": []
  },
  {
   "cell_type": "code",
   "execution_count": null,
   "id": "de65caf1-d061-44d2-85c8-b7752dfbf796",
   "metadata": {},
   "outputs": [],
   "source": []
  }
 ],
 "metadata": {
  "kernelspec": {
   "display_name": "Python 3 (ipykernel)",
   "language": "python",
   "name": "python3"
  },
  "language_info": {
   "codemirror_mode": {
    "name": "ipython",
    "version": 3
   },
   "file_extension": ".py",
   "mimetype": "text/x-python",
   "name": "python",
   "nbconvert_exporter": "python",
   "pygments_lexer": "ipython3",
   "version": "3.8.10"
  }
 },
 "nbformat": 4,
 "nbformat_minor": 5
}
